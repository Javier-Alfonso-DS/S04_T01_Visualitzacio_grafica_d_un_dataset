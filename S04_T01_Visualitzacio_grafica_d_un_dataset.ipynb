{
  "nbformat": 4,
  "nbformat_minor": 0,
  "metadata": {
    "colab": {
      "name": "S04_T01_Visualitzacio_grafica_d_un_dataset.ipynb",
      "provenance": [],
      "authorship_tag": "ABX9TyPfawcfDo5UFJNWkpnJD78z",
      "include_colab_link": true
    },
    "kernelspec": {
      "name": "python3",
      "display_name": "Python 3"
    },
    "language_info": {
      "name": "python"
    }
  },
  "cells": [
    {
      "cell_type": "markdown",
      "metadata": {
        "id": "view-in-github",
        "colab_type": "text"
      },
      "source": [
        "<a href=\"https://colab.research.google.com/github/Javier-Alfonso-DS/S04_T01_Visualitzacio_grafica_d_un_dataset/blob/main/S04_T01_Visualitzacio_grafica_d_un_dataset.ipynb\" target=\"_parent\"><img src=\"https://colab.research.google.com/assets/colab-badge.svg\" alt=\"Open In Colab\"/></a>"
      ]
    },
    {
      "cell_type": "markdown",
      "metadata": {
        "id": "C8qUGFY3G0o4"
      },
      "source": [
        "# Descripció\n",
        "\n",
        "Complementa les tècniques d'exploració de les dades mitjantçant la visualització gràfica, amb les llibreries Matplotlib i Searborn.\n",
        "Nivell 1\n",
        "## - Exercici 1\n",
        "\n",
        "Resumeix gràficament el data set DelayedFlights.csv\n",
        "\n",
        "Crea almenys una visualització per:\n",
        "\n",
        "* Una variable categòrica (UniqueCarrier)\n",
        "* Una variable numèrica (ArrDelay)\n",
        "* Una variable numèrica i una categòrica (ArrDelay i UniqueCarrier)\n",
        "* Dues variables numèriques (ArrDelay i DepDelay)\n",
        "* Tres variables (ArrDelay, DepDelay i UniqueCarrier)\n",
        "* Més de tres variables (ArrDelay, DepDelay, AirTime i UniqueCarrier).\n",
        "\n",
        "## - Exercici 2\n",
        "\n",
        "Exporta els gràfics com imatges o com html.\n",
        "\n",
        "## - Exercici 3\n",
        "\n",
        "Integra les visualitzacions gràfiques, en la tasca 5, del Sprint 3."
      ]
    },
    {
      "cell_type": "code",
      "metadata": {
        "id": "YcgegeS2HMto"
      },
      "source": [
        ""
      ],
      "execution_count": null,
      "outputs": []
    }
  ]
}